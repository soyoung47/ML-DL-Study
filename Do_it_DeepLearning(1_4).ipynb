{
  "nbformat": 4,
  "nbformat_minor": 0,
  "metadata": {
    "colab": {
      "name": "Do_it_DeepLearning(1-4).ipynb",
      "provenance": [],
      "authorship_tag": "ABX9TyO3zyFdPaHPszuxOHIQzyd6",
      "include_colab_link": true
    },
    "kernelspec": {
      "name": "python3",
      "display_name": "Python 3"
    }
  },
  "cells": [
    {
      "cell_type": "markdown",
      "metadata": {
        "id": "view-in-github",
        "colab_type": "text"
      },
      "source": [
        "<a href=\"https://colab.research.google.com/github/soyoung47/ML-DL-Study/blob/main/Do_it_DeepLearning(1_4).ipynb\" target=\"_parent\"><img src=\"https://colab.research.google.com/assets/colab-badge.svg\" alt=\"Open In Colab\"/></a>"
      ]
    },
    {
      "cell_type": "markdown",
      "metadata": {
        "id": "ZEhp7F3AFbZt"
      },
      "source": [
        "## Do it DeepLearning 예제 및 실습 코드"
      ]
    },
    {
      "cell_type": "markdown",
      "metadata": {
        "id": "KrbN_Ph4FmTM"
      },
      "source": [
        "#### 1장: "
      ]
    },
    {
      "cell_type": "code",
      "metadata": {
        "id": "IdNxB7P9FqoN"
      },
      "source": [
        ""
      ],
      "execution_count": null,
      "outputs": []
    }
  ]
}